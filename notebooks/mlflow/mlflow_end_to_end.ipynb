{
 "cells": [
  {
   "cell_type": "markdown",
   "metadata": {},
   "source": [
    "<img src=\"https://www.mlflow.org/docs/latest/_static/MLflow-logo-final-black.png\" width=\"200\"> <b>\n",
    "\n",
    "#### End to End Mlflow usage example\n",
    "\n",
    "The goal is demonstrate how to use mlflow different functionalities.\n",
    "\n",
    "**What we will do (core principles):**\n",
    "\n",
    "1. Train and track a Randomforest model on version v5 on 'dvc' (using autolog. You can use whatever git tag you have given to your data version)\n",
    "2. Register the model. (Will explain how to do in UI)\n",
    "3. Load and inference particular version of model\n",
    "4. Create a second model version using Xgboost on v5 on 'dvc' (using manual log. You can use whatever git tag you have given to your data version.)\n",
    "5. Update the register Random Forest model version to Xbooost version. (This time we will do it manually)"
   ]
  },
  {
   "cell_type": "code",
   "execution_count": 13,
   "metadata": {},
   "outputs": [],
   "source": [
    "import os\n",
    "import warnings\n",
    "import sys\n",
    "import regex as re\n",
    "import pandas as pd\n",
    "import numpy as np\n",
    "from sklearn.model_selection import train_test_split\n",
    "from sklearn.ensemble import RandomForestClassifier\n",
    "from sklearn.metrics import (accuracy_score,\n",
    "                             precision_score,\n",
    "                             recall_score,\n",
    "                             f1_score,\n",
    "                             roc_auc_score,)\n",
    "from sklearn.metrics import classification_report\n",
    "import matplotlib.pyplot as plt\n",
    "import seaborn as sns\n",
    "from urllib.parse import urlparse\n",
    "import mlflow.sklearn\n",
    "import logging\n",
    "from pprint import pprint\n",
    "from pathlib import Path\n",
    "import dvc.api\n",
    "\n",
    "logging.basicConfig(level=logging.WARN)\n",
    "logger = logging.getLogger(__name__)"
   ]
  },
  {
   "cell_type": "code",
   "execution_count": 14,
   "metadata": {},
   "outputs": [],
   "source": [
    "warnings.filterwarnings(\"ignore\")\n",
    "np.random.seed(40)"
   ]
  },
  {
   "cell_type": "markdown",
   "metadata": {},
   "source": [
    "### Get the particular Data version using DVC API\n"
   ]
  },
  {
   "cell_type": "code",
   "execution_count": 18,
   "metadata": {},
   "outputs": [],
   "source": [
    "path = 'data\\processed\\data.csv'\n",
    "repo = Path(os.getcwd()).parent.parent\n",
    "version = \"v5\""
   ]
  },
  {
   "cell_type": "code",
   "execution_count": 19,
   "metadata": {},
   "outputs": [
    {
     "name": "stdout",
     "output_type": "stream",
     "text": [
      "gdrive://1bsoNT0rQycXZr0p39AlFtq2rrvfSWgdK/52/c4a565124626592e08742d0c165f89\n"
     ]
    }
   ],
   "source": [
    "data_url = dvc.api.get_url(path=path,repo=repo,rev=version)\n",
    "print(data_url)"
   ]
  },
  {
   "cell_type": "code",
   "execution_count": 20,
   "metadata": {},
   "outputs": [],
   "source": [
    "with dvc.api.open(path=path,repo=repo,rev=version) as f:\n",
    "    data = pd.read_csv(f)"
   ]
  },
  {
   "cell_type": "code",
   "execution_count": 21,
   "metadata": {},
   "outputs": [
    {
     "data": {
      "text/html": [
       "<div>\n",
       "<style scoped>\n",
       "    .dataframe tbody tr th:only-of-type {\n",
       "        vertical-align: middle;\n",
       "    }\n",
       "\n",
       "    .dataframe tbody tr th {\n",
       "        vertical-align: top;\n",
       "    }\n",
       "\n",
       "    .dataframe thead th {\n",
       "        text-align: right;\n",
       "    }\n",
       "</style>\n",
       "<table border=\"1\" class=\"dataframe\">\n",
       "  <thead>\n",
       "    <tr style=\"text-align: right;\">\n",
       "      <th></th>\n",
       "      <th>Survived</th>\n",
       "      <th>Pclass</th>\n",
       "      <th>Sex</th>\n",
       "      <th>Age</th>\n",
       "      <th>Fare</th>\n",
       "      <th>Embarked</th>\n",
       "      <th>Title</th>\n",
       "      <th>IsAlone</th>\n",
       "      <th>Age*Class</th>\n",
       "    </tr>\n",
       "  </thead>\n",
       "  <tbody>\n",
       "    <tr>\n",
       "      <th>0</th>\n",
       "      <td>0</td>\n",
       "      <td>3</td>\n",
       "      <td>0</td>\n",
       "      <td>1</td>\n",
       "      <td>0</td>\n",
       "      <td>0</td>\n",
       "      <td>1</td>\n",
       "      <td>0</td>\n",
       "      <td>3</td>\n",
       "    </tr>\n",
       "    <tr>\n",
       "      <th>1</th>\n",
       "      <td>1</td>\n",
       "      <td>1</td>\n",
       "      <td>1</td>\n",
       "      <td>2</td>\n",
       "      <td>3</td>\n",
       "      <td>1</td>\n",
       "      <td>3</td>\n",
       "      <td>0</td>\n",
       "      <td>2</td>\n",
       "    </tr>\n",
       "    <tr>\n",
       "      <th>2</th>\n",
       "      <td>1</td>\n",
       "      <td>3</td>\n",
       "      <td>1</td>\n",
       "      <td>1</td>\n",
       "      <td>1</td>\n",
       "      <td>0</td>\n",
       "      <td>2</td>\n",
       "      <td>1</td>\n",
       "      <td>3</td>\n",
       "    </tr>\n",
       "    <tr>\n",
       "      <th>3</th>\n",
       "      <td>1</td>\n",
       "      <td>1</td>\n",
       "      <td>1</td>\n",
       "      <td>2</td>\n",
       "      <td>3</td>\n",
       "      <td>0</td>\n",
       "      <td>3</td>\n",
       "      <td>0</td>\n",
       "      <td>2</td>\n",
       "    </tr>\n",
       "    <tr>\n",
       "      <th>4</th>\n",
       "      <td>0</td>\n",
       "      <td>3</td>\n",
       "      <td>0</td>\n",
       "      <td>2</td>\n",
       "      <td>1</td>\n",
       "      <td>0</td>\n",
       "      <td>1</td>\n",
       "      <td>1</td>\n",
       "      <td>6</td>\n",
       "    </tr>\n",
       "  </tbody>\n",
       "</table>\n",
       "</div>"
      ],
      "text/plain": [
       "   Survived  Pclass  Sex  Age  Fare  Embarked  Title  IsAlone  Age*Class\n",
       "0         0       3    0    1     0         0      1        0          3\n",
       "1         1       1    1    2     3         1      3        0          2\n",
       "2         1       3    1    1     1         0      2        1          3\n",
       "3         1       1    1    2     3         0      3        0          2\n",
       "4         0       3    0    2     1         0      1        1          6"
      ]
     },
     "execution_count": 21,
     "metadata": {},
     "output_type": "execute_result"
    }
   ],
   "source": [
    "data.head()"
   ]
  },
  {
   "cell_type": "code",
   "execution_count": 22,
   "metadata": {},
   "outputs": [
    {
     "data": {
      "text/plain": [
       "(891, 9)"
      ]
     },
     "execution_count": 22,
     "metadata": {},
     "output_type": "execute_result"
    }
   ],
   "source": [
    "data.shape"
   ]
  },
  {
   "cell_type": "code",
   "execution_count": 23,
   "metadata": {},
   "outputs": [],
   "source": [
    "X = data.drop(['Survived'], axis=1)\n",
    "y = data['Survived']\n",
    "\n",
    "X_train, X_test, Y_train, Y_test = train_test_split(X,y, test_size=0.2, random_state=2)\n"
   ]
  },
  {
   "cell_type": "markdown",
   "metadata": {},
   "source": [
    "### Boilerplate code for getting Autolog tracked data"
   ]
  },
  {
   "cell_type": "code",
   "execution_count": 30,
   "metadata": {},
   "outputs": [],
   "source": [
    "'''\n",
    "Function for GettinG all the logged data information by mlflow.\n",
    "'''\n",
    "def fetch_logged_data(run_id):\n",
    "    client = mlflow.tracking.MlflowClient()\n",
    "    data = client.get_run(run_id).data\n",
    "    tags = {k: v for k, v in data.tags.items() if not k.startswith(\"mlflow.\")}\n",
    "    artifacts = [f.path for f in client.list_artifacts(run_id, \"model\")]\n",
    "    return data.params, data.metrics, tags, artifacts"
   ]
  },
  {
   "cell_type": "markdown",
   "metadata": {},
   "source": [
    "### Autolog Data"
   ]
  },
  {
   "cell_type": "code",
   "execution_count": 31,
   "metadata": {},
   "outputs": [
    {
     "data": {
      "text/plain": [
       "'sqlite:///mlruns.db'"
      ]
     },
     "execution_count": 31,
     "metadata": {},
     "output_type": "execute_result"
    }
   ],
   "source": [
    "mlflow.get_tracking_uri()"
   ]
  },
  {
   "cell_type": "code",
   "execution_count": 32,
   "metadata": {},
   "outputs": [],
   "source": [
    "# Use sqlite:///mlruns.db as the local store for tracking and registery\n",
    "mlflow.set_tracking_uri(\"sqlite:///mlruns.db\")"
   ]
  },
  {
   "cell_type": "code",
   "execution_count": 33,
   "metadata": {},
   "outputs": [
    {
     "name": "stdout",
     "output_type": "stream",
     "text": [
      "{'training_precision_score': 0.8757579482137003, 'training_recall_score': 0.875, 'training_f1_score': 0.87274422317728, 'training_accuracy_score': 0.875, 'training_log_loss': 0.287255988063176, 'training_roc_auc_score': 0.9395445730690085, 'training_score': 0.875, 'eval_precision_score': 0.8219392103020547, 'eval_recall_score': 0.8100558659217877, 'eval_f1_score': 0.8049256225112432, 'eval_accuracy_score': 0.8100558659217877, 'eval_log_loss': 0.6669602251375639, 'eval_roc_auc_score': 0.8612658227848101, 'eval_score': 0.8100558659217877}\n",
      "{'Data Url': 'gdrive://1bsoNT0rQycXZr0p39AlFtq2rrvfSWgdK/52/c4a565124626592e08742d0c165f89', 'bootstrap': 'True', 'ccp_alpha': '0.0', 'class_weight': 'None', 'criterion': 'gini', 'max_depth': '10', 'max_features': 'auto', 'max_leaf_nodes': 'None', 'max_samples': 'None', 'min_impurity_decrease': '0.0', 'min_samples_leaf': '1', 'min_samples_split': '2', 'min_weight_fraction_leaf': '0.0', 'n_estimators': '150', 'n_jobs': 'None', 'oob_score': 'False', 'random_state': 'None', 'verbose': '0', 'warm_start': 'False'}\n",
      "completed tracking\n"
     ]
    }
   ],
   "source": [
    "n_estimators=150\n",
    "criterion=\"gini\"\n",
    "max_depth=10\n",
    "rf = RandomForestClassifier(n_estimators=n_estimators,criterion=criterion,max_depth=max_depth)\n",
    "\n",
    "with mlflow.start_run() as run:\n",
    "\n",
    "    # Since DVC uri won't be autologged so logging seperately\n",
    "\n",
    "    mlflow.log_param(\"Data Url\",data_url)\n",
    "\n",
    "\n",
    "    mlflow.sklearn.autolog(log_models=True)\n",
    "\n",
    "    rf.fit(X_train,Y_train) # logging performance about train dataset\n",
    "    \n",
    "    mlflow.sklearn.eval_and_log_metrics(rf,X_test,Y_test,prefix=\"eval_\") # logging performance about evaluation dataset\n",
    "\n",
    "    params, metrics, tags, artifacts = fetch_logged_data(run.info.run_id)\n",
    "    \n",
    "    print(metrics)\n",
    "\n",
    "    print(params)\n",
    "    print(\"completed tracking\")"
   ]
  },
  {
   "cell_type": "code",
   "execution_count": 34,
   "metadata": {},
   "outputs": [
    {
     "name": "stdout",
     "output_type": "stream",
     "text": [
      "['model/MLmodel', 'model/conda.yaml', 'model/model.pkl', 'model/requirements.txt']\n"
     ]
    }
   ],
   "source": [
    "print(artifacts)"
   ]
  },
  {
   "cell_type": "markdown",
   "metadata": {},
   "source": [
    "### Model reistry and version tracking\n",
    "\n",
    "We can register a model using following ways\n",
    "\n",
    "* Using UI\n",
    "* Using inbuilt model registry API"
   ]
  },
  {
   "cell_type": "code",
   "execution_count": 37,
   "metadata": {},
   "outputs": [
    {
     "data": {
      "text/plain": [
       "'sqlite:///mlruns.db'"
      ]
     },
     "execution_count": 37,
     "metadata": {},
     "output_type": "execute_result"
    }
   ],
   "source": [
    "mlflow.get_tracking_uri()"
   ]
  },
  {
   "cell_type": "markdown",
   "metadata": {},
   "source": [
    "### Mlflow UI"
   ]
  },
  {
   "cell_type": "markdown",
   "metadata": {},
   "source": [
    "Run following command from terminal for starting mlflow ui from terminal.\n",
    "\n",
    "```\n",
    "cd notebooks/mlflow/\n",
    "\n",
    "mlflow ui --backend-store-uri sqlite:///mlruns.db\n",
    "\n",
    "```\n",
    "\n",
    "The visit http://localhost:5000/ link in your web browser."
   ]
  },
  {
   "cell_type": "markdown",
   "metadata": {},
   "source": [
    "### Create a new Registered Model\n",
    "\n",
    "1. First, navigate to the MLflow Runs Sidebar by clicking the `Runs` icon in the Databricks Notebook UI.\n",
    "\n",
    "\n",
    "2. Next, locate the MLflow Run corresponding to the Keras model training session, and open it in the MLflow Run UI by clicking the `View Run Detail` icon.\n",
    "\n",
    "3. In the MLflow UI, scroll down to the `Artifacts` section and click on the directory named `model`. Click on the `Register Model` button that appears.\n",
    "\n",
    "4. Then, select `Create New Model` from the drop-down menu, and input the following model name: `Titanic_model`. Finally, click `Register`. This registers a new model called `Titanic_model` and creates a new model version: `Version 1`.\n",
    "\n",
    "After a few moments, the MLflow UI displays a link to the new registered model. Follow this link to open the new model version in the MLflow Model Registry UI."
   ]
  },
  {
   "cell_type": "markdown",
   "metadata": {},
   "source": [
    "### Explore the Model Registry UI Workflow\n",
    "\n",
    "1. The Model Version page in the MLflow Model Registry UI provides information about `Version 1` of the registered titanic model, including its author, creation time, and its current stage.\n",
    "\n",
    "2. The Model Version page also provides a `Source Run` link, which opens the MLflow Run that was used to create the model in the MLflow Run UI. From the MLflow Run UI, you can access the `Source Notebook Link` to view a snapshot of the Databricks Notebook that was used to train the model.\n",
    "\n",
    "To navigate back to the MLflow Model Registry, click the `Models` icon in the Databricks Workspace Sidebar. The resulting MLflow Model Registry home page displays a list of all the registered models in your local Workspace, including their versions and stages.\n",
    "\n",
    "Select the `Titanic_model` link to open the Registered Model page, which displays all of the versions of the Titanic model."
   ]
  },
  {
   "cell_type": "markdown",
   "metadata": {},
   "source": [
    "### Add model descriptions\n",
    "\n",
    "Add a high-level description to the registered power forecasting model by clicking the `Edit Description` icon, entering the following description, and clicking `Save`:\n",
    "\n",
    "```\n",
    "Model to predict survival of passenger in Titanic ship\n",
    "\n",
    "```"
   ]
  },
  {
   "cell_type": "markdown",
   "metadata": {},
   "source": [
    "### Load versions of the registered model\n",
    "\n",
    "You can load a model by specifying its name (e.g., `Titanic_model`) and version number (e.g., `1`). The following cell uses the `mlflow.pyfunc.load_model()` API to load `Version 1` of the registered power forecasting model as a generic Python function."
   ]
  },
  {
   "cell_type": "code",
   "execution_count": 38,
   "metadata": {},
   "outputs": [
    {
     "name": "stdout",
     "output_type": "stream",
     "text": [
      "Loading registered model version from URI: 'models:/Titanic_model/1'\n"
     ]
    }
   ],
   "source": [
    "import mlflow.pyfunc\n",
    "model_name = \"Titanic_model\"\n",
    "model_version_uri = \"models:/{model_name}/1\".format(model_name=model_name)\n",
    "print(\"Loading registered model version from URI: '{model_uri}'\".format(model_uri=model_version_uri))\n",
    "model_version_1 = mlflow.pyfunc.load_model(model_version_uri)"
   ]
  },
  {
   "cell_type": "markdown",
   "metadata": {},
   "source": [
    "### Generate predictions with the Version 1 model\n"
   ]
  },
  {
   "cell_type": "code",
   "execution_count": 39,
   "metadata": {},
   "outputs": [
    {
     "name": "stdout",
     "output_type": "stream",
     "text": [
      "Accuracy Obtained in production: 0.8100558659217877\n"
     ]
    }
   ],
   "source": [
    "results = model_version_1.predict(pd.DataFrame(X_test))\n",
    "accuracy  = accuracy_score(Y_test,results)\n",
    "print(\"Accuracy Obtained in production:\",accuracy\n",
    ")"
   ]
  },
  {
   "cell_type": "markdown",
   "metadata": {},
   "source": [
    "### Use XGBoost to create and register the second model\n",
    "\n",
    "<img src=\"https://upload.wikimedia.org/wikipedia/commons/6/69/XGBoost_logo.png\"  width=\"200\">"
   ]
  },
  {
   "cell_type": "code",
   "execution_count": 43,
   "metadata": {},
   "outputs": [],
   "source": [
    "from xgboost import XGBClassifier\n",
    "\n",
    "n_estimators = 10\n",
    "max_depth = 5\n",
    "learning_rate = 0.2\n",
    "colsample_bytree = 0.8\n",
    "gamma = 10\n",
    "\n",
    "xgb = XGBClassifier(n_estimators=n_estimators,max_depth=max_depth,\n",
    "learning_rate=learning_rate,colsample_bytree=colsample_bytree,gamma=gamma)\n"
   ]
  },
  {
   "cell_type": "markdown",
   "metadata": {},
   "source": [
    "### Boilerplate evaluation metric generation code"
   ]
  },
  {
   "cell_type": "code",
   "execution_count": 45,
   "metadata": {},
   "outputs": [],
   "source": [
    "def eval_metrics(actual, pred):\n",
    "    accuracy  = accuracy_score(actual,pred)\n",
    "    precision = precision_score(actual,pred)\n",
    "    recall = recall_score(actual,pred)\n",
    "    f1 = f1_score(actual,pred)\n",
    "    roc = roc_auc_score(actual,pred)\n",
    "    return accuracy,precision,recall,f1,roc"
   ]
  },
  {
   "cell_type": "markdown",
   "metadata": {},
   "source": [
    "### Mlflow manual logging and version updation"
   ]
  },
  {
   "cell_type": "code",
   "execution_count": 47,
   "metadata": {},
   "outputs": [
    {
     "name": "stdout",
     "output_type": "stream",
     "text": [
      "[14:36:53] WARNING: C:/Users/Administrator/workspace/xgboost-win64_release_1.5.1/src/learner.cc:1115: Starting in XGBoost 1.3.0, the default evaluation metric used with the objective 'binary:logistic' was changed from 'error' to 'logloss'. Explicitly set eval_metric if you'd like to restore the old behavior.\n",
      "sqlite\n"
     ]
    },
    {
     "name": "stderr",
     "output_type": "stream",
     "text": [
      "Registered model 'Titanic_model' already exists. Creating a new version of this model...\n",
      "2022/05/09 14:36:57 INFO mlflow.tracking._model_registry.client: Waiting up to 300 seconds for model version to finish creation.                     Model name: Titanic_model, version 2\n",
      "Created version '2' of model 'Titanic_model'.\n"
     ]
    },
    {
     "name": "stdout",
     "output_type": "stream",
     "text": [
      "completed\n"
     ]
    },
    {
     "data": {
      "image/png": "[encoded data removed]",
      "text/plain": [
       "<Figure size 600x500 with 2 Axes>"
      ]
     },
     "metadata": {},
     "output_type": "display_data"
    }
   ],
   "source": [
    "with mlflow.start_run() as run2:\n",
    "    xgb.fit(X_train,Y_train)\n",
    "    predicted_quantities = xgb.predict(X_test)\n",
    "\n",
    "    mlflow.log_param(\"n_estimators\", n_estimators)\n",
    "    mlflow.log_param(\"criterion\", criterion)\n",
    "    mlflow.log_param(\"learning rate\", max_depth)\n",
    "    mlflow.log_param(\"colsample_bytree\",colsample_bytree)\n",
    "    mlflow.log_param(\"Gamma\",gamma)\n",
    "\n",
    "    (accuracy,precision,recall,f1,roc) = eval_metrics(Y_test,predicted_quantities)\n",
    "\n",
    "    mlflow.log_metric(\"Accuracy\",accuracy)\n",
    "    mlflow.log_metric(\"Precision\",precision)\n",
    "    mlflow.log_metric(\"Recall\",recall)\n",
    "    mlflow.log_metric(\"F1 score\",f1)\n",
    "    mlflow.log_metric(\"AUC score\",roc)\n",
    "\n",
    "    clsf_report = pd.DataFrame(classification_report(Y_test, predicted_quantities, output_dict=True)).transpose()\n",
    "    clsf_report.to_csv(r'visualization\\classification_report.csv', index=True)\n",
    "    mlflow.log_artifact(r'visualization\\classification_report.csv')\n",
    "\n",
    "    confusion_matrix = pd.crosstab(Y_test, predicted_quantities, rownames=['label'], colnames=['prediction'])\n",
    "    plt.figure(figsize=(6,5))\n",
    "\n",
    "    sns.heatmap(confusion_matrix, annot=True, cmap=\"Blues\", fmt='d')\n",
    "    plt.savefig(r\"visualization\\confusion_matrix.png\")\n",
    "    mlflow.log_artifact(r\"visualization\\confusion_matrix.png\") \n",
    "\n",
    "    client = mlflow.tracking.MlflowClient()\n",
    "    run_id = mlflow.active_run().info.run_id\n",
    "\n",
    "    tracking_url_type_store = urlparse(mlflow.get_tracking_uri()).scheme\n",
    "    print(tracking_url_type_store)\n",
    "    # Model registry does not work with file store\n",
    "    if tracking_url_type_store != \"file\":\n",
    "\n",
    "        # Register the model\n",
    "        # There are other ways to use the Model Registry, which depends on the use case,\n",
    "        # please refer to the doc for more information:\n",
    "        # https://mlflow.org/docs/latest/model-registry.html#api-workflow\n",
    "        mlflow.sklearn.log_model(xgb, \"model\", registered_model_name=\"Titanic_model\")\n",
    "        print(\"completed\")\n",
    "    else:\n",
    "        mlflow.sklearn.log_model(xgb)    "
   ]
  },
  {
   "cell_type": "markdown",
   "metadata": {},
   "source": [
    "### Explore the Model Registry API Workflow"
   ]
  },
  {
   "cell_type": "markdown",
   "metadata": {},
   "source": [
    "When a new model version is created with the MLflow Model Registry's Python APIs, the name and version information is printed for future reference. You can also navigate to the MLflow Model Registry UI to view the new model version. \n",
    "\n",
    "Define the new model version as a variable in the cell below."
   ]
  },
  {
   "cell_type": "code",
   "execution_count": 48,
   "metadata": {},
   "outputs": [],
   "source": [
    "model_version = 2"
   ]
  },
  {
   "cell_type": "markdown",
   "metadata": {},
   "source": [
    "### Add a description to the new model version manually"
   ]
  },
  {
   "cell_type": "code",
   "execution_count": 49,
   "metadata": {},
   "outputs": [
    {
     "data": {
      "text/plain": [
       "<ModelVersion: creation_timestamp=1652087217579, current_stage='None', description=\"This is the best model version. It's a xboost model\", last_updated_timestamp=1652087483463, name='Titanic_model', run_id='1c949f975bbe45ef95d0c9be32188a8b', run_link=None, source='./mlruns/0/1c949f975bbe45ef95d0c9be32188a8b/artifacts/model', status='READY', status_message=None, tags={}, user_id=None, version=2>"
      ]
     },
     "execution_count": 49,
     "metadata": {},
     "output_type": "execute_result"
    }
   ],
   "source": [
    "from mlflow.tracking.client import MlflowClient\n",
    "\n",
    "client = MlflowClient()\n",
    "client.update_model_version(\n",
    "  name=model_name,\n",
    "  version=model_version,\n",
    "  description=\"This is the best model version. It's a xboost model\"\n",
    ")"
   ]
  },
  {
   "cell_type": "markdown",
   "metadata": {},
   "source": [
    "### Load new version (Xgboost model)"
   ]
  },
  {
   "cell_type": "code",
   "execution_count": 51,
   "metadata": {},
   "outputs": [
    {
     "name": "stdout",
     "output_type": "stream",
     "text": [
      "Loading registered model version from URI: 'models:/Titanic_model/2'\n"
     ]
    }
   ],
   "source": [
    "import mlflow.pyfunc\n",
    "model_name = \"Titanic_model\"\n",
    "model_version_uri = \"models:/{model_name}/2\".format(model_name=model_name)\n",
    "print(\"Loading registered model version from URI: '{model_uri}'\".format(model_uri=model_version_uri))\n",
    "model_version_2 = mlflow.pyfunc.load_model(model_version_uri)"
   ]
  },
  {
   "cell_type": "code",
   "execution_count": 52,
   "metadata": {},
   "outputs": [
    {
     "name": "stdout",
     "output_type": "stream",
     "text": [
      "Accuracy Obtained in production: 0.7877094972067039\n"
     ]
    }
   ],
   "source": [
    "results = model_version_2.predict(pd.DataFrame(X_test))\n",
    "accuracy  = accuracy_score(Y_test,results)\n",
    "print(\"Accuracy Obtained in production:\",accuracy\n",
    ")"
   ]
  }
 ],
 "metadata": {
  "interpreter": {
   "hash": "e45130a61b757eb2e10094738f7703e073112f48eda961073e68e07ec6be6856"
  },
  "kernelspec": {
   "display_name": "Python 3.10.3 ('env': venv)",
   "language": "python",
   "name": "python3"
  },
  "language_info": {
   "codemirror_mode": {
    "name": "ipython",
    "version": 3
   },
   "file_extension": ".py",
   "mimetype": "text/x-python",
   "name": "python",
   "nbconvert_exporter": "python",
   "pygments_lexer": "ipython3",
   "version": "3.10.3"
  },
  "orig_nbformat": 4
 },
 "nbformat": 4,
 "nbformat_minor": 2
}
